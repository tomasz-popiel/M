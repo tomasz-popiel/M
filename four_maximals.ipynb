{
 "cells": [
  {
   "cell_type": "markdown",
   "id": "3b5b9f51-9bc1-453a-82be-30fe125229ac",
   "metadata": {},
   "source": [
    "# Conjugacy class fusion from four maximal subgroups of the Monster\n",
    "\n",
    "Python/mmgroup code accompanying the paper by Anthony Pisani and Tomasz Popiel:\n",
    "\n",
    "https://arxiv.org/abs/2404.05194\n",
    "\n",
    "9 April 2024\n",
    "\n",
    "**Warning: this file should be read section-by-section because several variable names are repeated between sections.**"
   ]
  },
  {
   "cell_type": "code",
   "execution_count": 1,
   "id": "ef56e7e7-f9e5-497a-8645-fad45a1a6651",
   "metadata": {},
   "outputs": [],
   "source": [
    "from mmgroup import *"
   ]
  },
  {
   "cell_type": "markdown",
   "id": "6c136054-992e-43e5-a4e4-ecd223ac291d",
   "metadata": {},
   "source": [
    "# $(\\text{PSL}_2(11) {\\times} \\text{PSL}_2(11)){:}4$\n",
    "\n",
    "Our generators for this maximal subgroup are as follows."
   ]
  },
  {
   "cell_type": "code",
   "execution_count": 2,
   "id": "c8eddc05-2193-4a2f-bc1f-01644396f75c",
   "metadata": {},
   "outputs": [],
   "source": [
    "x2 = MM(\"M<y_3dch*x_57fh*d_11ch*p_164842291*l_1*p_2640000*l_1*p_935210>\")\n",
    "x11 = MM(\"M<y_4bdh*x_120h*d_52ch*p_87984372*l_1*p_3840*l_1*p_21360*l_1*p_135360>\")\n",
    "x4 = MM(\"M<y_4a9h*x_898h*d_1ach*p_74531712*l_2*p_1900800*l_2*p_12614870*l_2*t_2*l_2*p_2344320*l_2*p_31997157*l_1*t_1*l_1*p_2880*l_2*p_21312*l_2*p_10252800*t_1*l_2*p_1900800*l_2*p_932277*t_1*l_1*p_1499520*l_2*p_64121894*t_1*l_2*p_2597760*l_1*p_42706968*t_2*l_2*p_2956800*l_1*p_42667409>\")"
   ]
  },
  {
   "cell_type": "markdown",
   "id": "c871e7ee-871b-4e35-9d67-924035befdf0",
   "metadata": {},
   "source": [
    "Confirm that $P = \\langle x_2,x_{11} \\rangle$ is isomorphic to $\\text{PSL}_2(11)$ by the checking the presentation of Behr and Mennicke cited in the paper."
   ]
  },
  {
   "cell_type": "code",
   "execution_count": 3,
   "id": "3f38f236-f986-4169-86b7-b2334b50c35b",
   "metadata": {},
   "outputs": [
    {
     "data": {
      "text/plain": [
       "True"
      ]
     },
     "execution_count": 3,
     "metadata": {},
     "output_type": "execute_result"
    }
   ],
   "source": [
    "x2**2 == x11**11 == (x11*x2)**3 == (x11**2*x2*x11**6*x2)**3 == MM(\"M<1>\")"
   ]
  },
  {
   "cell_type": "markdown",
   "id": "ba6c7dc3-5893-4d59-8537-e5c3c7083952",
   "metadata": {},
   "source": [
    "Check that $P$ is contained in the distinguished $2\\text{B}$-centraliser $\\mathbf{G} < \\mathbf{M}$ (which is called $G_{x0}$ in the mmgroup documentation)."
   ]
  },
  {
   "cell_type": "code",
   "execution_count": 4,
   "id": "fb96052d-8620-48f8-a4b9-b03ed7c4481b",
   "metadata": {},
   "outputs": [
    {
     "data": {
      "text/plain": [
       "True"
      ]
     },
     "execution_count": 4,
     "metadata": {},
     "output_type": "execute_result"
    }
   ],
   "source": [
    "x2.in_G_x0() and x11.in_G_x0()"
   ]
  },
  {
   "cell_type": "markdown",
   "id": "e87814b6-c9f0-41c9-9735-92338176a94d",
   "metadata": {},
   "source": [
    "Show that $P$ contains elements of the $\\mathbf{M}$-classes $2\\text{A}$, $3\\text{A}$, and $5\\text{A}$. The element $x_2$ is shown to lie in $2\\text{A}$ via the method conjugate_involution. The element $x_{11}x_2$ has order $3$ (see above) and is shown to have $\\chi_\\mathbf{M}$-value $782$, which indicates that it lies in $3\\text{A}$. The element $x_2x_{11}^3$ is shown to have order $5$ and $\\chi_\\mathbf{M}$-value $133$, which indicates that it lies in $5\\text{A}$. Here, as in the paper, $\\chi_\\mathbf{M}$ denotes the character of the irreducible $198663$-dimensional $\\mathbb{C}\\mathbf{M}$-module."
   ]
  },
  {
   "cell_type": "code",
   "execution_count": 5,
   "id": "b6c7a49c-1316-4e1d-9060-825dac077cd6",
   "metadata": {},
   "outputs": [
    {
     "data": {
      "text/plain": [
       "1"
      ]
     },
     "execution_count": 5,
     "metadata": {},
     "output_type": "execute_result"
    }
   ],
   "source": [
    "x2.conjugate_involution()[0]"
   ]
  },
  {
   "cell_type": "code",
   "execution_count": 6,
   "id": "766be39c-354c-4802-adeb-3c8f7f1b85d7",
   "metadata": {},
   "outputs": [
    {
     "data": {
      "text/plain": [
       "(3, 782)"
      ]
     },
     "execution_count": 6,
     "metadata": {},
     "output_type": "execute_result"
    }
   ],
   "source": [
    "(x11*x2).order(), (x11*x2).chi_G_x0()[0]"
   ]
  },
  {
   "cell_type": "code",
   "execution_count": 7,
   "id": "22acc493-4196-481a-9499-ec2de93533b8",
   "metadata": {},
   "outputs": [
    {
     "data": {
      "text/plain": [
       "(5, 133)"
      ]
     },
     "execution_count": 7,
     "metadata": {},
     "output_type": "execute_result"
    }
   ],
   "source": [
    "(x2*x11**3).order(), (x2*x11**3).chi_G_x0()[0]"
   ]
  },
  {
   "cell_type": "markdown",
   "id": "8960fff6-f134-4945-bafb-8b57bb8ec7a5",
   "metadata": {},
   "source": [
    "Check that $P = \\langle x_2,x_{11} \\rangle$ commutes with its conjugate under the element $x_4$."
   ]
  },
  {
   "cell_type": "code",
   "execution_count": 8,
   "id": "9eb3da4a-1f83-4b2f-b267-257eb13b57bf",
   "metadata": {},
   "outputs": [
    {
     "data": {
      "text/plain": [
       "True"
      ]
     },
     "execution_count": 8,
     "metadata": {},
     "output_type": "execute_result"
    }
   ],
   "source": [
    "x2**(x2**x4) == x2 and x2**(x11**x4) == x2 and x11**(x2**x4) == x11 and x11**(x11**x4) == x11"
   ]
  },
  {
   "cell_type": "markdown",
   "id": "96084f0d-7439-4fc0-84af-f66c416cc76f",
   "metadata": {},
   "source": [
    "Show that $P \\neq P^{x_4}$ by checking that $x_{11}^{x_4}$ is not a power of $x_{11}$."
   ]
  },
  {
   "cell_type": "code",
   "execution_count": 9,
   "id": "c981a60e-8c6c-48df-afa7-a2a9047bf295",
   "metadata": {},
   "outputs": [
    {
     "data": {
      "text/plain": [
       "False"
      ]
     },
     "execution_count": 9,
     "metadata": {},
     "output_type": "execute_result"
    }
   ],
   "source": [
    "x11**x4 in [x11**i for i in range(11)]"
   ]
  },
  {
   "cell_type": "markdown",
   "id": "e94b3afc-ed29-4d79-aa3e-abd31c086f85",
   "metadata": {},
   "source": [
    "Check that $x_4$ has order $4$, and that $x_4^2$ normalises $P$; specifically, $x_4^2$ centralises $x_2$ and inverts $x_{11}$."
   ]
  },
  {
   "cell_type": "code",
   "execution_count": 10,
   "id": "e2826071-5507-4afb-bdb4-4e2efe93c420",
   "metadata": {},
   "outputs": [
    {
     "data": {
      "text/plain": [
       "(4, True, True)"
      ]
     },
     "execution_count": 10,
     "metadata": {},
     "output_type": "execute_result"
    }
   ],
   "source": [
    "x4.order(), x2**(x4**2) == x2, x11**(x4**2) == x11**-1"
   ]
  },
  {
   "cell_type": "markdown",
   "id": "54e7ca4d-e06d-462b-aa03-80a3709fca7e",
   "metadata": {},
   "source": [
    "Exhibit an element of order $20$ in $S = \\langle x_2,x_{11},x_4 \\rangle \\cong (\\text{PSL}_2(11) {\\times} \\text{PSL}_2(11)){:}4$."
   ]
  },
  {
   "cell_type": "code",
   "execution_count": 11,
   "id": "cca6b6f6-b516-4820-8feb-c7bbee1eff0e",
   "metadata": {},
   "outputs": [
    {
     "data": {
      "text/plain": [
       "20"
      ]
     },
     "execution_count": 11,
     "metadata": {},
     "output_type": "execute_result"
    }
   ],
   "source": [
    "x20 = x11*x2*x4\n",
    "x20.order()"
   ]
  },
  {
   "cell_type": "markdown",
   "id": "d3c8c382-5ae1-45b6-b9bd-9e6b98c8453c",
   "metadata": {},
   "source": [
    "Confirm that $x_{20}$ powers to $\\mathbf{M}$-class $2\\text{B}$, which (per the paper) implies that $x_{20}$ lies in the union of the $S$-classes $20\\text{cdef}$."
   ]
  },
  {
   "cell_type": "code",
   "execution_count": 12,
   "id": "99946e33-d5d5-4247-918b-204b956ed8af",
   "metadata": {},
   "outputs": [
    {
     "data": {
      "text/plain": [
       "2"
      ]
     },
     "execution_count": 12,
     "metadata": {},
     "output_type": "execute_result"
    }
   ],
   "source": [
    "(x20**10).conjugate_involution()[0]"
   ]
  },
  {
   "cell_type": "markdown",
   "id": "71832a76-9d78-493f-94de-58319975c152",
   "metadata": {},
   "source": [
    "Conjugate $x_{20}$ into $\\mathbf{G}$ and calculate $\\chi_\\mathbf{M}(x_{20}) = 2$, which shows that $x_{20}$ lies in the $\\mathbf{M}$-class $20\\text{E}$."
   ]
  },
  {
   "cell_type": "code",
   "execution_count": 13,
   "id": "7e9f8c40-766d-41da-96c2-973f6e3f8a0e",
   "metadata": {},
   "outputs": [
    {
     "data": {
      "text/plain": [
       "(True, 2)"
      ]
     },
     "execution_count": 13,
     "metadata": {},
     "output_type": "execute_result"
    }
   ],
   "source": [
    "(x20**((x20**10).conjugate_involution()[1])).in_G_x0(), (x20**((x20**10).conjugate_involution()[1])).chi_G_x0()[0]"
   ]
  },
  {
   "cell_type": "markdown",
   "id": "38ac7c30-2af0-42c8-b9e8-f8a50a995f16",
   "metadata": {},
   "source": [
    "# $11^2{:}(5 {\\times} 2\\text{A}_5)$\n",
    "\n",
    "Our generators for this maximal subgroup are as follows."
   ]
  },
  {
   "cell_type": "code",
   "execution_count": 14,
   "id": "bcda5740-34cc-4a80-a78b-0c18215f2712",
   "metadata": {},
   "outputs": [],
   "source": [
    "x11 = MM(\"M<y_4bdh*x_120h*d_52ch*p_87984372*l_1*p_3840*l_1*p_21360*l_1*p_135360>\")\n",
    "y11 = MM(\"M<y_389h*x_0d8dh*d_0d9ch*p_150523146*l_1*p_2640000*l_1*p_10668793*t_1*l_2*p_2597760*l_1*p_21348617*t_1*l_1*p_2832000*t_1*l_1*p_1499520*l_2*p_63997801*t_1*l_1*p_1499520*l_2*p_1527956>\")\n",
    "x3 = MM(\"M<y_479h*x_474h*d_0ad8h*p_170818001*l_1*p_2999040*l_1*p_32071331*l_1*t_1*l_2*p_1920*l_1*p_1394256*l_1*t_2*l_2*p_1900800*l_2*p_21819090*l_1*t_1*l_2*p_2386560*l_2*p_10777289*t_1*l_1*p_1499520*l_2*p_42755921*t_1*l_2*p_2386560*l_2*p_42799217*t_2*l_2*p_1985280*l_1*p_53381138>\")\n",
    "x4 = MM(\"M<y_3d7h*x_1c77h*d_206h*p_198338203*l_1*p_2027520*l_1*p_22753408*l_2*t_1*l_2*p_467520*l_2*p_22260720*l_2*t_1*l_1*p_1415040*l_1*p_10666848*l_1*p_10539840*t_1*l_1*p_1933440*l_1*t_2*l_2*p_46168320*l_2*t_1*l_1*p_2999040*l_1*p_16357*t_1*l_2*p_2597760*l_1*p_86256657*t_1*l_2*p_2386560*l_2*p_21424635>\")\n",
    "x5 = MM(\"M<y_47ah*x_1f1eh*d_482h*p_238402577*l_2*p_1900800*l_2*p_33456466*t_2*l_1*p_1415040*l_1*p_10793664*t_2*l_2*p_1943040*l_2*p_42669319*t_2*l_2*p_2956800*l_1*p_85409964*t_2*l_1*p_2027520*l_1*p_96458484*l_2*p_11130240*t_1*l_2*p_1920*l_1*p_1296*l_1*p_4652160>\")"
   ]
  },
  {
   "cell_type": "markdown",
   "id": "299c836e-45c7-4adf-bc54-772a46a457fe",
   "metadata": {},
   "source": [
    "Check that $x_{11}$ and $y_{11}$ have order $11$ and commute."
   ]
  },
  {
   "cell_type": "code",
   "execution_count": 15,
   "id": "8e561d38-014c-4356-817a-c42cabfd1549",
   "metadata": {},
   "outputs": [
    {
     "data": {
      "text/plain": [
       "(11, 11, True)"
      ]
     },
     "execution_count": 15,
     "metadata": {},
     "output_type": "execute_result"
    }
   ],
   "source": [
    "x11.order(), y11.order(), x11*y11 == y11*x11"
   ]
  },
  {
   "cell_type": "markdown",
   "id": "931b8058-2d43-4891-a4b0-8d1547c329f6",
   "metadata": {},
   "source": [
    "Construct $\\langle x_{11} \\rangle$ and $\\langle y_{11} \\rangle$ and check that $y_{11} \\not \\in \\langle x_{11} \\rangle$."
   ]
  },
  {
   "cell_type": "code",
   "execution_count": 16,
   "id": "3302304c-1d55-4808-aa87-1558453806f2",
   "metadata": {},
   "outputs": [
    {
     "data": {
      "text/plain": [
       "False"
      ]
     },
     "execution_count": 16,
     "metadata": {},
     "output_type": "execute_result"
    }
   ],
   "source": [
    "x11_cyc = [x11**i for i in range(11)]\n",
    "y11_cyc = [y11**i for i in range(11)]\n",
    "y11 in x11_cyc"
   ]
  },
  {
   "cell_type": "markdown",
   "id": "d169eb00-2f92-43b3-880e-2ef68f48baae",
   "metadata": {},
   "source": [
    "Construct the Sylow $11$-subgroup $A = \\langle x_{11},y_{11} \\rangle \\cong 11^2$."
   ]
  },
  {
   "cell_type": "code",
   "execution_count": 17,
   "id": "5e2604d8-1a3b-45c3-b1f8-f9076c028935",
   "metadata": {},
   "outputs": [],
   "source": [
    "A = [x*y for x in x11_cyc for y in y11_cyc]"
   ]
  },
  {
   "cell_type": "markdown",
   "id": "880a1e10-2b00-4e32-b225-f6644d5a7a2a",
   "metadata": {},
   "source": [
    "Confirm that $x_3$, $x_4$, and $x_5$ have the orders indicated by their subscripts."
   ]
  },
  {
   "cell_type": "code",
   "execution_count": 18,
   "id": "f22151ec-70f6-4459-b76b-5ef8d7002720",
   "metadata": {},
   "outputs": [
    {
     "data": {
      "text/plain": [
       "(3, 4, 5)"
      ]
     },
     "execution_count": 18,
     "metadata": {},
     "output_type": "execute_result"
    }
   ],
   "source": [
    "x3.order(), x4.order(), x5.order()"
   ]
  },
  {
   "cell_type": "markdown",
   "id": "cfe7c5a8-47f2-4ec6-a122-4d11fba0d656",
   "metadata": {},
   "source": [
    "Check that $x_5$ normalises each of $\\langle x_{11} \\rangle$ and $\\langle y_{11} \\rangle$."
   ]
  },
  {
   "cell_type": "code",
   "execution_count": 19,
   "id": "0b2c78b0-54e2-4d2c-a9c8-a95f711517be",
   "metadata": {},
   "outputs": [
    {
     "data": {
      "text/plain": [
       "True"
      ]
     },
     "execution_count": 19,
     "metadata": {},
     "output_type": "execute_result"
    }
   ],
   "source": [
    "(x11**x5 in x11_cyc) and (y11**x5 in y11_cyc)"
   ]
  },
  {
   "cell_type": "markdown",
   "id": "115e2877-7636-4f90-a0e8-b7f487c05488",
   "metadata": {},
   "source": [
    "Check that $x_3$ and $x_4$ normalise $A = \\langle x_{11},y_{11} \\rangle$."
   ]
  },
  {
   "cell_type": "code",
   "execution_count": 20,
   "id": "3a408ed8-b5c9-438c-82f0-6de596dc68b8",
   "metadata": {},
   "outputs": [
    {
     "data": {
      "text/plain": [
       "True"
      ]
     },
     "execution_count": 20,
     "metadata": {},
     "output_type": "execute_result"
    }
   ],
   "source": [
    "(x11**x3 in A) and (x11**x4 in A) and (y11**x3 in A) and (y11**x4 in A)"
   ]
  },
  {
   "cell_type": "markdown",
   "id": "bdad5eee-6840-460e-9389-860fd9efa55f",
   "metadata": {},
   "source": [
    "Check that $x_5$ commutes with $\\langle x_3,x_4 \\rangle$."
   ]
  },
  {
   "cell_type": "code",
   "execution_count": 21,
   "id": "d9d55bbb-4713-4f6a-a3df-259620dbaf13",
   "metadata": {},
   "outputs": [
    {
     "data": {
      "text/plain": [
       "True"
      ]
     },
     "execution_count": 21,
     "metadata": {},
     "output_type": "execute_result"
    }
   ],
   "source": [
    "(x3*x5 == x5*x3) and (x4*x5 == x5*x4)"
   ]
  },
  {
   "cell_type": "markdown",
   "id": "bc27445f-6dfc-4a52-9dc9-03716936c4ef",
   "metadata": {},
   "source": [
    "Check that $x_2 = x_4^2$ commutes with $x_3$, so is central in $\\langle x_3,x_4 \\rangle$."
   ]
  },
  {
   "cell_type": "code",
   "execution_count": 22,
   "id": "ac6ce701-569d-4fbd-9502-534dfd32831d",
   "metadata": {},
   "outputs": [
    {
     "data": {
      "text/plain": [
       "True"
      ]
     },
     "execution_count": 22,
     "metadata": {},
     "output_type": "execute_result"
    }
   ],
   "source": [
    "x2 = x4**2\n",
    "x3*x2 == x2*x3"
   ]
  },
  {
   "cell_type": "markdown",
   "id": "719a7c2b-c047-4760-b7f0-b3ff1269501f",
   "metadata": {},
   "source": [
    "Show that, modulo $\\langle x_2 \\rangle$, $x_3$ and $x_4$ generate a group isomorphic to $\\text{A}_5$. This is verified by checking the presentation $\\langle a,b \\mid a^2 = b^3 = (ab)^5 = 1 \\rangle$ for $\\text{A}_5$ modulo $\\langle x_2 \\rangle$."
   ]
  },
  {
   "cell_type": "code",
   "execution_count": 23,
   "id": "cab2a142-c537-4d91-b883-1a6cc4cfb72a",
   "metadata": {},
   "outputs": [
    {
     "data": {
      "text/plain": [
       "True"
      ]
     },
     "execution_count": 23,
     "metadata": {},
     "output_type": "execute_result"
    }
   ],
   "source": [
    "(x4**2 in [x2,x2**2]) and (x3**3 in [x2,x2**2]) and ((x3*x4)**5 in [x2,x2**2])"
   ]
  },
  {
   "cell_type": "markdown",
   "id": "60b463c4-2758-40ac-8506-7fa33e50ef51",
   "metadata": {},
   "source": [
    "Exhibit an element of order $30$ in $S = \\langle x_{11},y_{11},x_3,x_4,x_5 \\rangle \\cong 11^2{:}(5 {\\times} 2\\text{A}_5)$."
   ]
  },
  {
   "cell_type": "code",
   "execution_count": 24,
   "id": "20b705ee-17cf-4c66-9c84-38202bed3d92",
   "metadata": {},
   "outputs": [
    {
     "data": {
      "text/plain": [
       "30"
      ]
     },
     "execution_count": 24,
     "metadata": {},
     "output_type": "execute_result"
    }
   ],
   "source": [
    "x30 = x5*x3*x4**2\n",
    "x30.order()"
   ]
  },
  {
   "cell_type": "markdown",
   "id": "553d8c5d-8934-4d78-b353-d7fd5fdda06e",
   "metadata": {},
   "source": [
    "Check that $x_{30}$ powers to the $\\mathbf{M}$-class $2\\text{B}$."
   ]
  },
  {
   "cell_type": "code",
   "execution_count": 25,
   "id": "30b1f0e5-52b4-48cd-9e17-57515b49ad22",
   "metadata": {},
   "outputs": [
    {
     "data": {
      "text/plain": [
       "True"
      ]
     },
     "execution_count": 25,
     "metadata": {},
     "output_type": "execute_result"
    }
   ],
   "source": [
    "(x30**15).conjugate_involution()[0] == 2"
   ]
  },
  {
   "cell_type": "markdown",
   "id": "7cd138f1-2a39-4fd4-a47e-48de85c522e1",
   "metadata": {},
   "source": [
    "Conjugate $x_{30}$ into $\\mathbf{G}$ and calculate $\\chi_\\mathbf{M}(x_{30}) = -1$, which indicates that $x_{30}$ lies in the union of the $\\mathbf{M}$-classes $30\\text{C}$ and $30\\text{E}$."
   ]
  },
  {
   "cell_type": "code",
   "execution_count": 26,
   "id": "ba7750d9-bdad-4a71-ac03-e26077769ae8",
   "metadata": {},
   "outputs": [
    {
     "data": {
      "text/plain": [
       "-1"
      ]
     },
     "execution_count": 26,
     "metadata": {},
     "output_type": "execute_result"
    }
   ],
   "source": [
    "(x30**((x30**15).conjugate_involution()[1])).chi_G_x0()[0]"
   ]
  },
  {
   "cell_type": "markdown",
   "id": "704e011c-3c4d-4db1-9dce-089f5059f8e9",
   "metadata": {},
   "source": [
    "We know that $x_{30} \\not \\in 30\\text{C}$ via GAP, so $x_{30} \\in 30\\text{E}$. Confirm this by checking that $x_{30}^3 \\in 10\\text{D}$ via $\\chi_\\mathbf{M}(x_{30}^3) = 20$; this is sufficient because $30\\text{C}$ elements power to $10\\text{A}$."
   ]
  },
  {
   "cell_type": "code",
   "execution_count": 27,
   "id": "342f8e69-d9a9-4f07-a7ee-faba00a34d2f",
   "metadata": {},
   "outputs": [
    {
     "data": {
      "text/plain": [
       "20"
      ]
     },
     "execution_count": 27,
     "metadata": {},
     "output_type": "execute_result"
    }
   ],
   "source": [
    "((x30**3)**((x30**15).conjugate_involution()[1])).chi_G_x0()[0]"
   ]
  },
  {
   "cell_type": "markdown",
   "id": "873c29d0-f30a-4956-8fb2-d32498c755f1",
   "metadata": {},
   "source": [
    "Exhibit an element of order $10$."
   ]
  },
  {
   "cell_type": "code",
   "execution_count": 28,
   "id": "f8221d90-8911-4264-959f-f24a9cfeece8",
   "metadata": {},
   "outputs": [
    {
     "data": {
      "text/plain": [
       "10"
      ]
     },
     "execution_count": 28,
     "metadata": {},
     "output_type": "execute_result"
    }
   ],
   "source": [
    "x10 = x4*(x3*x5)**2\n",
    "x10.order()"
   ]
  },
  {
   "cell_type": "markdown",
   "id": "dfbabc8b-77cd-4bb7-b92c-d31beb3dcd73",
   "metadata": {},
   "source": [
    "Check that $x_{10}$ powers to $2\\text{B}$."
   ]
  },
  {
   "cell_type": "code",
   "execution_count": 29,
   "id": "92f424f3-3130-4776-bed8-604a142587cb",
   "metadata": {},
   "outputs": [
    {
     "data": {
      "text/plain": [
       "True"
      ]
     },
     "execution_count": 29,
     "metadata": {},
     "output_type": "execute_result"
    }
   ],
   "source": [
    "(x10**5).conjugate_involution()[0] == 2"
   ]
  },
  {
   "cell_type": "markdown",
   "id": "aaab0d71-4cea-48a3-a1ac-4cea7c2a8e9f",
   "metadata": {},
   "source": [
    "Calculate $\\chi_\\mathbf{M}(x_{10}) = 0$, which indicates that $x_{10} \\in 10\\text{E}$."
   ]
  },
  {
   "cell_type": "code",
   "execution_count": 30,
   "id": "4082050c-afa9-4f12-bb96-60947a36a5df",
   "metadata": {},
   "outputs": [
    {
     "data": {
      "text/plain": [
       "0"
      ]
     },
     "execution_count": 30,
     "metadata": {},
     "output_type": "execute_result"
    }
   ],
   "source": [
    "(x10**((x10**5).conjugate_involution()[1])).chi_G_x0()[0]"
   ]
  },
  {
   "cell_type": "markdown",
   "id": "d64e61a6-429a-4930-a5f5-a54a53124e80",
   "metadata": {},
   "source": [
    "# $7^2{:}\\text{SL}_2(7)$\n",
    "\n",
    "Our generators for this maximal subgroup are as follows."
   ]
  },
  {
   "cell_type": "code",
   "execution_count": 31,
   "id": "f3bab352-7a93-4960-96ce-667ec4c209ea",
   "metadata": {},
   "outputs": [],
   "source": [
    "x7 = MM(\"M<y_5d3h*x_0a6dh*d_8d4h*p_111142481*l_1*p_2999040*l_1*p_43234193>\")\n",
    "y7 = MM('M<y_4a9h*x_1744h*d_0c88h*p_124439088*l_2*p_2597760*l_1*p_10860102*t_1*l_2*p_2386560*l_2*p_10772578*t_1*l_2*p_2956800*l_1*p_53817946*t_1*l_2*p_1858560*l_2*p_21333360*t_2*l_2*p_2830080*l_2*p_85837074*l_2*p_11151360*t_1*l_1*p_1457280*l_2*p_12549552*l_2>')\n",
    "x4 = MM(\"M<y_406h*x_1bfeh*d_4d7h*p_44119992*l_2*p_2597760*l_1*p_33391058*l_2*t_1*l_1*p_2640000*l_1*p_12994999*l_1*t_1*l_2*p_2344320*l_2*p_1465428*l_1*t_1*l_1*p_2999040*l_1*p_5762*t_1*l_2*p_1985280*l_1*p_85413713*t_1*l_2*p_1943040*l_2*p_21367881*t_2*l_1*p_2027520*l_1*p_54866*t_1*l_1*p_1457280*l_2*p_76963>\")\n",
    "x14 = MM(\"M<y_599h*x_237h*d_0e76h*p_139011497*l_2*p_2956800*l_1*p_1912825*l_1*t_1*l_2*p_2787840*l_2*p_33397891*l_1*t_1*l_2*p_1393920*l_1*p_22416*l_2*p_2475840*t_2*l_2*p_2956800*l_1*p_10702214*t_2*l_1*p_2640000*l_1*p_661025*l_2*t_1*l_1*p_1457280*l_2*p_96458467*l_2*p_464640>\")"
   ]
  },
  {
   "cell_type": "markdown",
   "id": "5d8b60fa-8b62-460e-89a2-afa2b7f1d1e1",
   "metadata": {},
   "source": [
    "Check the orders of the generators."
   ]
  },
  {
   "cell_type": "code",
   "execution_count": 32,
   "id": "f999880c-d90f-4955-b5bf-4973554186aa",
   "metadata": {},
   "outputs": [
    {
     "data": {
      "text/plain": [
       "(7, 7, 4, 14)"
      ]
     },
     "execution_count": 32,
     "metadata": {},
     "output_type": "execute_result"
    }
   ],
   "source": [
    "x7.order(), y7.order(), x4.order(), x14.order()"
   ]
  },
  {
   "cell_type": "markdown",
   "id": "c78a9a76-29f9-4f0d-b263-2dce4cb8d615",
   "metadata": {},
   "source": [
    "Construct $\\langle x_7 \\rangle$ and $\\langle y_ 7 \\rangle$ and confirm that $x_7$ and $y_7$ commute and are not powers of each other."
   ]
  },
  {
   "cell_type": "code",
   "execution_count": 33,
   "id": "91e0600b-9dfe-4f02-96fd-0973512ac390",
   "metadata": {},
   "outputs": [
    {
     "data": {
      "text/plain": [
       "True"
      ]
     },
     "execution_count": 33,
     "metadata": {},
     "output_type": "execute_result"
    }
   ],
   "source": [
    "x7_cyc = [x7**i for i in range(7)]\n",
    "y7_cyc = [y7**i for i in range(7)]\n",
    "x7*y7 == y7*x7 and not(y7 in x7_cyc)"
   ]
  },
  {
   "cell_type": "markdown",
   "id": "cdbecee6-6b94-478a-b6a9-6fd272da8594",
   "metadata": {},
   "source": [
    "Construct $A = \\langle x_7,y_7 \\rangle \\cong 7^2$."
   ]
  },
  {
   "cell_type": "code",
   "execution_count": 34,
   "id": "cb68cdd2-4473-4001-81db-c93f57335734",
   "metadata": {},
   "outputs": [],
   "source": [
    "A = [x*y for x in x7_cyc for y in y7_cyc]"
   ]
  },
  {
   "cell_type": "markdown",
   "id": "471fd343-7ef9-4383-a1e5-3c02b7e5bac4",
   "metadata": {},
   "source": [
    "To show that $A$ is the correct type of $7^2$, first construct the normal subgroup $7^{1+4}$ of $N_\\mathbf{M}(\\langle x_7 \\rangle)$. We claim that this is the group $Q$ generated by $x_7$ and the following four elements."
   ]
  },
  {
   "cell_type": "code",
   "execution_count": 35,
   "id": "bc4acbdb-5b6b-4ad9-883e-f838c005a409",
   "metadata": {},
   "outputs": [],
   "source": [
    "a7 = MM(\"M<y_534h*x_144dh*d_4c9h*p_232106941*l_1*p_1415040*l_2*p_53793072*t_2*l_2*p_1900800*l_2*p_10674402*l_2*t_1*l_2*p_1900800*l_2*p_1928117*l_1*t_2*l_2*p_4371840*l_2*t_1*l_2*p_2956800*l_1*p_10693639*t_1*l_2*p_1943040*l_2*p_42668385*t_2*l_2*p_2597760*l_1*p_11141857*t_2*l_2*p_2830080*l_2*p_43151365>\")\n",
    "b7 = MM(\"M<y_4f2h*x_11c3h*d_322h*p_46570772*l_1*p_467520*l_1*p_11595168*l_2*t_1*l_1*p_2999040*l_1*p_21865425*l_1*t_1*l_1*p_1499520*l_1*p_1466374*l_1*t_1*l_1*p_1499520*l_2*p_85329058*t_2*l_1*p_1499520*l_2*p_43256279*t_1*l_2*p_1943040*l_2*p_64000626*t_2*l_1*p_1499520*l_2*p_43181204*t_1*l_2*p_2830080*l_2*p_64017988>\")\n",
    "c7 = MM(\"M<y_4dh*x_0bb5h*d_7a2h*p_11678766*l_2*p_1900800*l_2*p_25970*t_1*l_1*p_1499520*l_1*p_32552116*l_2*t_1*l_2*p_1920*l_2*p_23280*l_2*p_2819520*t_1*l_1*p_1457280*l_2*p_21441*t_2*l_1*p_1457280*l_2*p_96038950*l_1*p_3840*t_2*l_2*p_1943040*l_2*p_58663*l_2>\")\n",
    "d7 = MM(\"M<y_110h*x_0aaeh*d_67eh*p_97278295*l_2*p_2597760*l_1*p_13042995*l_1*t_2*l_1*p_2027520*l_1*p_33396803*l_2*t_1*l_1*p_1415040*l_2*p_24192*l_1*p_66240*t_1*l_2*p_2597760*l_1*p_32507814*t_1*l_1*p_1499520*l_2*p_43603527*t_1*l_2*p_2787840*l_2*p_494578*t_2*l_2*p_1985280*l_1*p_43161060>\")\n",
    "V_basis = [a7,b7,c7,d7]"
   ]
  },
  {
   "cell_type": "markdown",
   "id": "793789c4-c889-4749-b949-f6317e46c1e5",
   "metadata": {},
   "source": [
    "Confirm that these four elements have order $7$, centralise $x_7$, and are not powers of $x_7$."
   ]
  },
  {
   "cell_type": "code",
   "execution_count": 36,
   "id": "60454f7e-b2a2-4376-8a6c-83b4c8eefb4e",
   "metadata": {},
   "outputs": [
    {
     "data": {
      "text/plain": [
       "True"
      ]
     },
     "execution_count": 36,
     "metadata": {},
     "output_type": "execute_result"
    }
   ],
   "source": [
    "all([v.order() == 7 for v in V_basis]) and all([x7**v == x7 and not(v in x7_cyc) for v in V_basis])"
   ]
  },
  {
   "cell_type": "markdown",
   "id": "cca54994-d4b7-4c6d-ac3c-721adae0f3b3",
   "metadata": {},
   "source": [
    "Check that they commute pairwise modulo $\\langle x_7 \\rangle$."
   ]
  },
  {
   "cell_type": "code",
   "execution_count": 37,
   "id": "95fc4006-f732-4192-bfe0-e5289690e0c9",
   "metadata": {},
   "outputs": [
    {
     "data": {
      "text/plain": [
       "True"
      ]
     },
     "execution_count": 37,
     "metadata": {},
     "output_type": "execute_result"
    }
   ],
   "source": [
    "all([v**-1*w**-1*v*w in x7_cyc for v in V_basis for w in V_basis])"
   ]
  },
  {
   "cell_type": "markdown",
   "id": "4db3390c-a710-443a-af7b-ed5800876350",
   "metadata": {},
   "source": [
    "Check that $a_7$ and $b_7$ commute and are not powers of each other."
   ]
  },
  {
   "cell_type": "code",
   "execution_count": 38,
   "id": "7d83709e-e086-4b15-b110-c3782d25b9d3",
   "metadata": {},
   "outputs": [
    {
     "data": {
      "text/plain": [
       "True"
      ]
     },
     "execution_count": 38,
     "metadata": {},
     "output_type": "execute_result"
    }
   ],
   "source": [
    "a7*b7 == b7*a7 and not(a7 in [b7**i for i in range(7)])"
   ]
  },
  {
   "cell_type": "markdown",
   "id": "cf191757-ba64-4ed2-a205-e352c0bd49a9",
   "metadata": {},
   "source": [
    "Check that $c_7$ and $d_7$ commute and are not powers of each other."
   ]
  },
  {
   "cell_type": "code",
   "execution_count": 39,
   "id": "28eb74e3-9000-4805-8112-2e8c4c593383",
   "metadata": {},
   "outputs": [
    {
     "data": {
      "text/plain": [
       "True"
      ]
     },
     "execution_count": 39,
     "metadata": {},
     "output_type": "execute_result"
    }
   ],
   "source": [
    "c7*d7 == d7*c7 and not(c7 in [d7**i for i in range(7)])"
   ]
  },
  {
   "cell_type": "markdown",
   "id": "591797f0-f59e-463d-8034-413dce6d33d5",
   "metadata": {},
   "source": [
    "Check that $x_7$ does not lie in $\\langle a_7,b_7 \\rangle \\cong 7^2$."
   ]
  },
  {
   "cell_type": "code",
   "execution_count": 40,
   "id": "153d8ad0-48d3-4648-8c9b-7d26dcf79683",
   "metadata": {},
   "outputs": [],
   "source": [
    "a7b7 = [a7**i*b7**j for i in range(7) for j in range(7)]"
   ]
  },
  {
   "cell_type": "code",
   "execution_count": 41,
   "id": "e8344c3c-47b4-492d-a79e-38af9fa0267c",
   "metadata": {},
   "outputs": [
    {
     "data": {
      "text/plain": [
       "False"
      ]
     },
     "execution_count": 41,
     "metadata": {},
     "output_type": "execute_result"
    }
   ],
   "source": [
    "x7 in a7b7"
   ]
  },
  {
   "cell_type": "markdown",
   "id": "5dd9e047-f7b3-4c6d-9fe9-928801027d54",
   "metadata": {},
   "source": [
    "This confirms that $Q_{ab} = \\langle x_7,a_7,b_7 \\rangle$ is isomorphic to $7^3$. Enumerate $Q_{ab}$."
   ]
  },
  {
   "cell_type": "code",
   "execution_count": 42,
   "id": "07c2be5d-fecf-4851-8a63-0b6be2ad9fa4",
   "metadata": {},
   "outputs": [],
   "source": [
    "Q_ab = [x7**i*g for i in range(7) for g in a7b7]"
   ]
  },
  {
   "cell_type": "markdown",
   "id": "6ce52c85-5136-4d51-912b-3c19b74c3089",
   "metadata": {},
   "source": [
    "Enumerate $Q_{cd} = \\langle c_7,d_7 \\rangle \\cong 7^2$. "
   ]
  },
  {
   "cell_type": "code",
   "execution_count": 43,
   "id": "91c377c7-4860-446b-a40b-74ca6b17bb6f",
   "metadata": {},
   "outputs": [],
   "source": [
    "Q_cd = [c7**i*d7**j for i in range(7) for j in range(7)]"
   ]
  },
  {
   "cell_type": "markdown",
   "id": "f60e9d0b-a920-487f-9c2c-56ab5a84d105",
   "metadata": {},
   "source": [
    "Check that $Q_{cd} = \\langle c_7,d_7 \\rangle \\cong 7^2$ meets $Q_{ab}$ trivially. \n",
    "\n",
    "**Note: mmgroup elements are not hashable, so to speed up the following calculation we have converted mmgroup elements to integers using the method [as_int](https://mmgroup.readthedocs.io/en/latest/api.html#mmgroup.MM.as_int). This can be avoided by instead running the commented code below, which takes 1-2 minutes on a 2022 MacBook Air.**"
   ]
  },
  {
   "cell_type": "code",
   "execution_count": 44,
   "id": "e0e72aae-74a9-41d3-a7b1-f57402c40100",
   "metadata": {},
   "outputs": [
    {
     "data": {
      "text/plain": [
       "1"
      ]
     },
     "execution_count": 44,
     "metadata": {},
     "output_type": "execute_result"
    }
   ],
   "source": [
    "# check directly without using as_int (outputs 1)\n",
    "# len([q for q in Q_ab if q in Q_cd])\n",
    "Q_cd_asint = {q.as_int() for q in Q_cd}\n",
    "len([q for q in Q_ab if q.as_int() in Q_cd_asint])"
   ]
  },
  {
   "cell_type": "markdown",
   "id": "0eca53f9-8bd8-4ec3-bfd5-23b1c2836745",
   "metadata": {},
   "source": [
    "Per the paper, the above confirms that $Q$ is the normal $7^{1+4}$ in $N_\\mathbf{M}(\\langle x_7 \\rangle)$. Now show that $y_7 \\not \\in Q$ by checking that $y_7$ does not commute modulo $\\langle x_7 \\rangle$ with $a_7$."
   ]
  },
  {
   "cell_type": "code",
   "execution_count": 45,
   "id": "fde6b5de-b1ea-498c-b1e9-4973ed72ae88",
   "metadata": {},
   "outputs": [
    {
     "data": {
      "text/plain": [
       "False"
      ]
     },
     "execution_count": 45,
     "metadata": {},
     "output_type": "execute_result"
    }
   ],
   "source": [
    "y7**-1*a7**-1*y7*a7 in x7_cyc"
   ]
  },
  {
   "cell_type": "markdown",
   "id": "997b0487-8774-46b0-90a8-6639c4383032",
   "metadata": {},
   "source": [
    "It remains to show that $A = \\langle x_7,y_7 \\rangle$ is $7\\text{B}$-pure. First check that $x_7 \\in 7\\text{B}$ by confirming that it lies in $\\mathbf{G}$ and has $\\chi_\\mathbf{M}$-value $1$."
   ]
  },
  {
   "cell_type": "code",
   "execution_count": 46,
   "id": "92f9b937-c2b5-4460-9218-0ae0422ab406",
   "metadata": {},
   "outputs": [
    {
     "data": {
      "text/plain": [
       "(True, 1)"
      ]
     },
     "execution_count": 46,
     "metadata": {},
     "output_type": "execute_result"
    }
   ],
   "source": [
    "x7.in_G_x0(), x7.chi_G_x0()[0]"
   ]
  },
  {
   "cell_type": "markdown",
   "id": "5383168c-763d-4f14-b275-b27168ddf40e",
   "metadata": {},
   "source": [
    "Per the paper, it now suffices to conjugate a generator of each of the other seven cyclic subgroups of order $7$ in $A$ to $x_7$. A set of generators is as follows."
   ]
  },
  {
   "cell_type": "code",
   "execution_count": 47,
   "id": "331e9aba-b5ce-44d2-8998-3ab69ac4263a",
   "metadata": {},
   "outputs": [],
   "source": [
    "cyclic_gens = [y7, y7*x7, y7**2*x7, y7**3*x7, y7**4*x7, y7**5*x7, y7**6*x7]"
   ]
  },
  {
   "cell_type": "markdown",
   "id": "f13ccfcd-3342-452e-93f8-3cc034e40234",
   "metadata": {},
   "source": [
    "A corresponding set of conjugating elements is as follows."
   ]
  },
  {
   "cell_type": "code",
   "execution_count": 48,
   "id": "a0f3fa9d-86d6-4a6a-9675-73655dba4f13",
   "metadata": {},
   "outputs": [],
   "source": [
    "conjugators = [(x14*x4*x14)**2, \n",
    "               (x14*x4*x14)**2*x14**2*x4, \n",
    "               x14*x4*x14**4*x4*x14, \n",
    "               x14*x4*x14**3, \n",
    "               x4*x14*(x14*x4)**2, \n",
    "               x14*x4*x14**3*x4, \n",
    "               (x14*x4*x14)**2*x14**3]"
   ]
  },
  {
   "cell_type": "code",
   "execution_count": 49,
   "id": "2805346f-0bfc-4f93-abaf-fb82ded02fd4",
   "metadata": {},
   "outputs": [
    {
     "data": {
      "text/plain": [
       "True"
      ]
     },
     "execution_count": 49,
     "metadata": {},
     "output_type": "execute_result"
    }
   ],
   "source": [
    "all([x7**conjugators[i] == cyclic_gens[i] for i in range(len(cyclic_gens))])"
   ]
  },
  {
   "cell_type": "markdown",
   "id": "90320fac-fdc9-482b-b9ce-f737ca725fa4",
   "metadata": {},
   "source": [
    "This completes the proof that $A = \\langle x_7,y_7 \\rangle$ is the correct type of $7^2$. Next, confirm that $x_4$ and $x_{14}$ normalise $A$."
   ]
  },
  {
   "cell_type": "code",
   "execution_count": 50,
   "id": "cd5f3321-6e3c-43da-8c86-e68f6a37d6c1",
   "metadata": {},
   "outputs": [
    {
     "data": {
      "text/plain": [
       "True"
      ]
     },
     "execution_count": 50,
     "metadata": {},
     "output_type": "execute_result"
    }
   ],
   "source": [
    "(x7**x4 in A) and (x7**x14 in A) and (y7**x4 in A) and (y7**x14 in A)"
   ]
  },
  {
   "cell_type": "markdown",
   "id": "aba7b0c2-1d29-4b7b-98ac-617fd9fffb7d",
   "metadata": {},
   "source": [
    "Check that $x_4$ and $x_{14}$ satisfy the presentation for $\\text{SL}_2(7)$ of Campbell and Robertson cited in the paper."
   ]
  },
  {
   "cell_type": "code",
   "execution_count": 51,
   "id": "210c3e03-23bf-4df7-9545-c50ea9832989",
   "metadata": {},
   "outputs": [
    {
     "data": {
      "text/plain": [
       "True"
      ]
     },
     "execution_count": 51,
     "metadata": {},
     "output_type": "execute_result"
    }
   ],
   "source": [
    "(x4*x14)**3*x4**-2 == (x4*x14**4*x4*x14**4)**2*x14**7*x4**4 == MM(\"M<1>\")"
   ]
  },
  {
   "cell_type": "markdown",
   "id": "8f4e3ec1-cfa5-4fb7-9df9-32f952bda856",
   "metadata": {},
   "source": [
    "Check that $|x_{14}|=14$, which confirms that $B = \\langle x_4,x_{14} \\rangle$ is isomorphic to $\\text{SL}_2(7)$."
   ]
  },
  {
   "cell_type": "code",
   "execution_count": 52,
   "id": "9bbae37f-ceb1-45e6-9689-23802b2b8b16",
   "metadata": {},
   "outputs": [
    {
     "data": {
      "text/plain": [
       "14"
      ]
     },
     "execution_count": 52,
     "metadata": {},
     "output_type": "execute_result"
    }
   ],
   "source": [
    "x14.order()"
   ]
  },
  {
   "cell_type": "markdown",
   "id": "2ad3375f-f7e0-4cfa-aa1b-9c134c8820bb",
   "metadata": {},
   "source": [
    "Check that $|x_4|=4$ and that $x_4^2$ commutes with $x_{14}$, so that $x_4^2$ is the central involution in $B$."
   ]
  },
  {
   "cell_type": "code",
   "execution_count": 53,
   "id": "7d76998e-8a71-4100-bdd1-2d4a64cf7744",
   "metadata": {},
   "outputs": [
    {
     "data": {
      "text/plain": [
       "(4, True)"
      ]
     },
     "execution_count": 53,
     "metadata": {},
     "output_type": "execute_result"
    }
   ],
   "source": [
    "x4.order(), x4**2*x14 == x14*x4**2"
   ]
  },
  {
   "cell_type": "markdown",
   "id": "227d94f8-52d6-4bed-9df0-909872dfee72",
   "metadata": {},
   "source": [
    "Check that $x_4^2$ does not centralise $x_7$, which implies (per the paper) that $B \\cap A = \\{1\\}$."
   ]
  },
  {
   "cell_type": "code",
   "execution_count": 54,
   "id": "28226eb5-ef40-476e-8b9d-c1ba3a9478f8",
   "metadata": {},
   "outputs": [
    {
     "data": {
      "text/plain": [
       "True"
      ]
     },
     "execution_count": 54,
     "metadata": {},
     "output_type": "execute_result"
    }
   ],
   "source": [
    "x7**(x4**2) == x7**-1"
   ]
  },
  {
   "cell_type": "markdown",
   "id": "808a2383-5aa5-4390-97eb-24b64a15477e",
   "metadata": {},
   "source": [
    "The following element conjugates $B = \\langle x_4,x_{14} \\rangle$ into $\\mathbf{G}$."
   ]
  },
  {
   "cell_type": "code",
   "execution_count": 55,
   "id": "aafa76aa-7ea3-40b6-b14b-8425fb4d9baf",
   "metadata": {},
   "outputs": [
    {
     "data": {
      "text/plain": [
       "True"
      ]
     },
     "execution_count": 55,
     "metadata": {},
     "output_type": "execute_result"
    }
   ],
   "source": [
    "c = MM(\"M<y_477h*x_16e3h*d_0d02h*p_71006193*l_1*p_1457280*l_2*p_21804690*l_1*t_1*l_1*p_2999040*l_1*p_21812385*l_2*t_1*l_1*p_1499520*l_2*p_22755364*l_2*t_1*l_2*p_2386560*l_2*p_43604547*t_1*l_1*p_2880*l_1*p_1296*l_1*p_1548480*t_1*l_1*p_13326720*l_2*t_1*l_2*p_1943040*l_2*p_42715538>\")\n",
    "(x4**c).in_G_x0() and (x14**c).in_G_x0()"
   ]
  },
  {
   "cell_type": "markdown",
   "id": "1255567c-847c-4846-96dd-9f16b6547993",
   "metadata": {},
   "source": [
    "Show that elements of order $4$ in $S$ are in $4\\text{D}$ via the $\\chi_\\mathbf{M}$-value $-13$."
   ]
  },
  {
   "cell_type": "code",
   "execution_count": 56,
   "id": "226a5836-7f3e-4f6d-9272-785da4be5823",
   "metadata": {},
   "outputs": [
    {
     "data": {
      "text/plain": [
       "-13"
      ]
     },
     "execution_count": 56,
     "metadata": {},
     "output_type": "execute_result"
    }
   ],
   "source": [
    "(x4**c).chi_G_x0()[0]"
   ]
  },
  {
   "cell_type": "markdown",
   "id": "aac485b0-8684-4505-ba45-a470d02cb04f",
   "metadata": {},
   "source": [
    "Show that elements of order $6$ in $S$ are in $6\\text{F}$ via $\\chi_\\mathbf{M}$-value $-1$."
   ]
  },
  {
   "cell_type": "code",
   "execution_count": 57,
   "id": "084ad0d9-e35c-4cc2-83c8-39e0a2984475",
   "metadata": {},
   "outputs": [
    {
     "data": {
      "text/plain": [
       "(6, -1)"
      ]
     },
     "execution_count": 57,
     "metadata": {},
     "output_type": "execute_result"
    }
   ],
   "source": [
    "x6 = x4*x14\n",
    "x6.order(), (x6**c).chi_G_x0()[0]"
   ]
  },
  {
   "cell_type": "markdown",
   "id": "cd653a66-a298-44d1-b1d8-f0094d05cded",
   "metadata": {},
   "source": [
    "Show that squares of elements of order $14$ in $S$ are in $7\\text{B}$ via $\\chi_\\mathbf{M}$-value $1$."
   ]
  },
  {
   "cell_type": "code",
   "execution_count": 58,
   "id": "4bebcb36-5e86-401e-ab93-b8797d0985cd",
   "metadata": {},
   "outputs": [
    {
     "data": {
      "text/plain": [
       "1"
      ]
     },
     "execution_count": 58,
     "metadata": {},
     "output_type": "execute_result"
    }
   ],
   "source": [
    "((x14**2)**c).chi_G_x0()[0]"
   ]
  },
  {
   "cell_type": "markdown",
   "id": "64e76b4a-f7f5-4109-9774-fefc1bd46f07",
   "metadata": {},
   "source": [
    "Determine the fusion of the remaining elements of order $7$. Per the paper, it suffices to conjugate the elements $x_7z_{14}^2$, $x_7^2z_{14}^2$, and $x_7^3z_{14}^2$ to $x_7$, where $z_{14} = x_{14}^{x_4}$, after confirming that $z_{14}$ does not normalise $\\langle x_7 \\rangle$."
   ]
  },
  {
   "cell_type": "code",
   "execution_count": 59,
   "id": "da100177-2ea8-488e-81b0-e3cddad3f617",
   "metadata": {},
   "outputs": [
    {
     "data": {
      "text/plain": [
       "False"
      ]
     },
     "execution_count": 59,
     "metadata": {},
     "output_type": "execute_result"
    }
   ],
   "source": [
    "z14 = x14**x4\n",
    "x7**z14 in [x7**i for i in range(7)]"
   ]
  },
  {
   "cell_type": "code",
   "execution_count": 60,
   "id": "c1ce76d2-e378-4870-b3f2-ee7e70226b5f",
   "metadata": {},
   "outputs": [],
   "source": [
    "reps_7s = [x7*z14**2, x7**2*z14**2, x7**3*z14**2]"
   ]
  },
  {
   "cell_type": "code",
   "execution_count": 61,
   "id": "2b9584ef-7fde-45bf-8fcc-48e826dda1ff",
   "metadata": {},
   "outputs": [],
   "source": [
    "s = MM(\"M<y_185h*x_6e2h*d_89ah*p_124672224*l_2*p_43950720*l_1*p_71871360*l_1*t_2*l_1*p_21120*l_2*p_32461776*l_2*t_2*l_2*p_2787840*l_2*p_13053750*l_2*t_2*l_1*p_6547200*l_1*t_1*l_1*p_59917440*l_1*p_213375504*t_2*l_1*p_1499520*l_2*p_106666101*t_1*l_2*p_2830080*l_2*p_42715558*t_2*l_2*p_1985280*l_1*p_85410832>\")\n",
    "t = MM(\"M<y_7ch*x_8c6h*d_0cb8h*p_229806390*l_2*p_47942400*l_1*p_241760688*l_1*t_1*l_2*p_1943040*l_2*p_21865402*l_1*t_2*l_2*p_2956800*l_1*p_21893383*l_1*t_1*l_1*p_2640000*l_1*p_12502*t_2*l_1*p_1499520*l_1*p_64122852*t_2*l_2*p_3840*l_2*p_3120*l_2*p_6548160*t_1*l_2*p_2386560*l_2*p_42677985*t_1*l_2*p_1900800*l_2*p_214592>\")\n",
    "r = MM(\"M<y_183h*x_0cb9h*d_4b3h*p_162391248*l_1*p_50160000*l_1*p_222689328*l_1*t_2*l_2*p_1943040*l_2*p_32063514*l_1*t_1*l_2*p_1394880*l_2*p_22791936*l_1*t_1*l_1*p_1499520*l_1*p_10778215*t_2*l_2*p_1943040*l_2*p_85833293*t_1*l_1*p_1499520*l_2*p_43174440*t_1*l_2*p_1985280*l_1*p_43194643>\")"
   ]
  },
  {
   "cell_type": "code",
   "execution_count": 62,
   "id": "d831fed6-63ae-4880-a5d6-1f12a7a626b6",
   "metadata": {},
   "outputs": [
    {
     "data": {
      "text/plain": [
       "True"
      ]
     },
     "execution_count": 62,
     "metadata": {},
     "output_type": "execute_result"
    }
   ],
   "source": [
    "reps_7s[0]**s == reps_7s[1]**t == reps_7s[2]**r == x7"
   ]
  },
  {
   "cell_type": "markdown",
   "id": "cc855d21-104b-49ca-bf36-0bfc5af81cab",
   "metadata": {},
   "source": [
    "# $\\text{PSL}_2(19){:}2$\n",
    "\n",
    "First define the generators $g_{2\\text{B}}$ and $g_{3\\text{B}}$ of a \"type B\" $\\text{A}_5 \\in \\mathbf{M}$ from the paper of Dietrich, Lee, and Popiel; see the \"type B\" case of Listing 8 of that paper."
   ]
  },
  {
   "cell_type": "code",
   "execution_count": 63,
   "id": "91bf6c51-340e-4e38-9950-3b0b73c5d212",
   "metadata": {},
   "outputs": [],
   "source": [
    "a2 = MM(\"M<y_511h*x_19e5h*d_0f88h*p_175676956*l_2*p_127776000*t_2*l_1*p_60360960*l_1*p_193416960*l_2*t_1*l_1*p_69231360*l_2*p_162370608*l_2*t_2*l_1*p_67457280>\")\n",
    "a3 = MM(\"M<y_411h*x_158eh*d_64fh*p_160702030*l_2*p_1900800*l_2*p_684131*t_1*l_1*p_1499520*l_1*p_32064306*l_2*t_1*l_2*p_1394880*l_1*p_22320*l_2*p_98880*t_2*l_2*p_2830080*l_2*p_21469865*t_2*l_2*p_2830080*l_2*p_106661290*t_1*l_2*p_2597760*l_1*p_43613421*t_2*l_2*p_2830080*l_2*p_96456578>\")\n",
    "b2 = MM(\"M<y_599h*x_41ah*d_6b7h*p_240430467*l_1*p_70561920*l_1*p_140194560*t_1*l_1*p_81206400*l_2*p_169023408*l_1*t_1*l_2*p_79432320*l_2*p_212044848*l_2*t_1*l_2*p_59917440*l_1*p_157048416>\")\n",
    "b3 = MM(\"M<y_1eeh*x_15e7h*d_0d65h*p_141989494*l_1*p_59473920*l_2*p_131767728*l_2*t_2*l_2*p_50160000*l_2*p_179224368*l_2*t_2*l_1*p_71005440*l_1*p_243091248*l_1*t_2*l_1*p_58143360*l_2*p_179667936>\")\n",
    "g2_B, g3_B = a2*b2, a3*b3"
   ]
  },
  {
   "cell_type": "markdown",
   "id": "c5db2e8d-0270-4430-befa-87eab422aaaf",
   "metadata": {},
   "source": [
    "Now define generators for our maximal $\\text{PSL}_2(19){:}2 < \\mathbf{M}$."
   ]
  },
  {
   "cell_type": "code",
   "execution_count": 64,
   "id": "d97a795d-7692-4fa4-bb97-2c4b1194dba6",
   "metadata": {},
   "outputs": [],
   "source": [
    "x2 = MM(\"M<y_531h*x_147bh*d_9e6h*p_236396641*l_2*p_1985280*l_1*p_21825835*l_1*t_2*l_1*p_1499520*l_2*p_32991824*l_2*t_2*l_2*p_1415040*l_1*p_24192*l_2*p_2496960*t_1*l_1*p_1499520*l_1*p_12113794*t_1*l_1*p_2027520*l_1*p_86261393*l_2*p_11594880*t_2*l_1*p_1394880*l_2*p_465792*l_1*p_2392320>\")\n",
    "x19 = MM(\"M<y_7ddh*x_0e39h*d_99h*p_136245180*l_1*p_1499520*l_1*p_23222870*t_1*l_1*p_1499520*l_2*p_1925316*l_1*t_2*l_1*p_2640000*l_1*p_1504850*l_1*t_1*l_2*p_2830080*l_2*p_127990691*t_1*l_2*p_1457280*l_1*p_175110*t_1*l_1*p_1920*l_2*p_10667712*l_2*p_6106560*t_1*l_2*p_2386560*l_2*p_42663561*t_2*l_2*p_2597760*l_1*p_85812125>\")"
   ]
  },
  {
   "cell_type": "markdown",
   "id": "56fdcb51-ca0c-4482-83f5-8b813b97f780",
   "metadata": {},
   "source": [
    "Check that $x_2$ and $x_{19}$ satisfy the presentation for $\\text{PSL}_2(19){:}2 = \\text{PGL}_2(19)$ of Robertson and Williams cited in the paper."
   ]
  },
  {
   "cell_type": "code",
   "execution_count": 65,
   "id": "42dba463-b707-4492-943e-3c9a45ecf697",
   "metadata": {},
   "outputs": [
    {
     "data": {
      "text/plain": [
       "True"
      ]
     },
     "execution_count": 65,
     "metadata": {},
     "output_type": "execute_result"
    }
   ],
   "source": [
    "x2**2 == x19**19 == (x2*x19**2)**4 == (x2*x19*x2*x19**2)**3 == MM(\"<1>\")"
   ]
  },
  {
   "cell_type": "markdown",
   "id": "33aef0cf-20ea-4fe9-b505-d975dc312ccd",
   "metadata": {},
   "source": [
    "Define the claimed generators $g_2$ and $g_3$ of a type-B $\\text{A}_5 < S$ and confirm that they coincide with the generators of the known type-B $\\text{A}_5 < \\mathbf{M}$ defined above."
   ]
  },
  {
   "cell_type": "code",
   "execution_count": 66,
   "id": "4e9a2327-413e-4fb8-affd-14c031a4b36a",
   "metadata": {},
   "outputs": [
    {
     "data": {
      "text/plain": [
       "True"
      ]
     },
     "execution_count": 66,
     "metadata": {},
     "output_type": "execute_result"
    }
   ],
   "source": [
    "g2 = (x19**2*x2)**2\n",
    "g3 = x2*x19**2*x2*x19\n",
    "(g2 == g2_B) and (g3 == g3_B)"
   ]
  },
  {
   "cell_type": "markdown",
   "id": "3a9e91be-4641-490c-a8d6-3c8c17f90b3e",
   "metadata": {},
   "source": [
    "Confirm that $A = \\langle g_2,g_3 \\rangle$ is an $\\text{A}_5$ of type B, so that the theorem of Holmes and Wilson cited in the paper implies that $S$ is maximal. First check a presentation for $\\text{A}_5$."
   ]
  },
  {
   "cell_type": "code",
   "execution_count": 67,
   "id": "3ae3e671-02ff-4774-a8f8-b9a1d8814f2e",
   "metadata": {},
   "outputs": [
    {
     "data": {
      "text/plain": [
       "True"
      ]
     },
     "execution_count": 67,
     "metadata": {},
     "output_type": "execute_result"
    }
   ],
   "source": [
    "g2**2 == g3**3 == (g2*g3)**5 == MM(\"M<1>\")"
   ]
  },
  {
   "cell_type": "markdown",
   "id": "6744eb0d-8ddb-44c2-bf19-7a1f311fe538",
   "metadata": {},
   "source": [
    "Check that $A$ contains elements of the $\\mathbf{M}$-classes $2\\text{B}$, $3\\text{B}$, and $5\\text{B}$. First check that $g_2 \\in 2\\text{B}$ via conjugate_involution."
   ]
  },
  {
   "cell_type": "code",
   "execution_count": 68,
   "id": "d6e417d9-43ae-469f-a9d4-05168b234ad4",
   "metadata": {},
   "outputs": [
    {
     "data": {
      "text/plain": [
       "True"
      ]
     },
     "execution_count": 68,
     "metadata": {},
     "output_type": "execute_result"
    }
   ],
   "source": [
    "g2.conjugate_involution()[0] == 2"
   ]
  },
  {
   "cell_type": "markdown",
   "id": "a5c84af2-9cc5-4a3b-869b-e93a67c486e6",
   "metadata": {},
   "source": [
    "The following elements $c$ and $d$ conjugate $g_3$ and $g_5 = g_2g_3$ into $\\mathbf{G}$."
   ]
  },
  {
   "cell_type": "code",
   "execution_count": 69,
   "id": "89fec5df-4447-4177-88c6-91267370b75d",
   "metadata": {},
   "outputs": [
    {
     "data": {
      "text/plain": [
       "True"
      ]
     },
     "execution_count": 69,
     "metadata": {},
     "output_type": "execute_result"
    }
   ],
   "source": [
    "c = MM(\"M<y_0adh*x_128h*d_9bh*p_152633473*l_2*p_60804480*l_1*p_243091248*l_2*t_1*l_1*p_68787840*l_1*p_212044848*l_1*t_2*l_1*p_1499520*l_1*p_32535003*l_1*t_1*l_1*p_2027520*l_1*p_11521*t_1*l_2*p_783360*t_2*l_2*p_2830080*l_2*p_86257556*t_1*l_2*p_1943040*l_2*p_96477752*t_1*l_2*p_2956800*l_1*p_43197549>\")\n",
    "d = MM(\"M<y_4f1h*x_9bch*d_0f77h*p_106507260*l_1*p_80762880*l_2*p_213375504*t_2*l_1*p_1499520*l_2*p_583047*t_2*l_2*p_1900800*l_2*p_1040998*t_2*l_2*p_2386560*l_2*p_21331401*t_1>\")\n",
    "g5 = g2*g3\n",
    "(g3**c).in_G_x0() and (g5**d).in_G_x0()"
   ]
  },
  {
   "cell_type": "markdown",
   "id": "7750fc97-e58a-4882-b6aa-058fdf8b018e",
   "metadata": {},
   "source": [
    "The $\\chi_\\mathbf{M}$-values of $g_3$ and $g_5$ are $53$ and $8$, so $g_3 \\in 3\\text{B}$ and $g_5 \\in 5\\text{B}$."
   ]
  },
  {
   "cell_type": "code",
   "execution_count": 70,
   "id": "b9a55105-4d4f-4b42-9d50-1e0de610038d",
   "metadata": {},
   "outputs": [
    {
     "data": {
      "text/plain": [
       "(53, 8)"
      ]
     },
     "execution_count": 70,
     "metadata": {},
     "output_type": "execute_result"
    }
   ],
   "source": [
    "(g3**c).chi_G_x0()[0], (g5**d).chi_G_x0()[0]"
   ]
  },
  {
   "cell_type": "markdown",
   "id": "e2218952-17d3-4d05-903f-ac9f2e39a644",
   "metadata": {},
   "source": [
    "The above shows that $A \\cong \\text{A}_5$ is of type B or T. To confirm that it is of type B, show that it is normalised by a group of shape $\\text{A}_5.4$. The element $y_4$ has order $4$ and normalises $A$. (It centralises $g_2$, conjugates $g_3$ into $A$, but does not centralise $g_3$.)"
   ]
  },
  {
   "cell_type": "code",
   "execution_count": 71,
   "id": "6d6389fe-9d13-4342-82b5-f95ad7b2fe24",
   "metadata": {},
   "outputs": [
    {
     "data": {
      "text/plain": [
       "True"
      ]
     },
     "execution_count": 71,
     "metadata": {},
     "output_type": "execute_result"
    }
   ],
   "source": [
    "y4 = MM(\"M<y_163h*x_1c92h*d_608h*p_59179108*l_1*p_2999040*l_1*p_43617991*t_1*l_2*p_2880*l_2*p_2160*l_2*p_2369280*t_2*l_2*p_1457280*l_1*p_1860708*l_2*t_2*l_2*p_2386560*l_2*p_85819731*t_1*l_2*p_1943040*l_2*p_42707029*t_2*l_2*p_2386560*l_2*p_21439072*t_1*l_1*p_1457280*l_2*p_10566>\")\n",
    "(y4.order() == 4) and (g2**y4 == g2) and not(g3**y4 == g3) and (g3**y4 == g2*g3*g3*g2*g3*g2*g3*g3)"
   ]
  },
  {
   "cell_type": "markdown",
   "id": "570139e2-0725-49f6-b83e-61e5a5244125",
   "metadata": {},
   "source": [
    "The involution $y_4^2$ centralises $A$."
   ]
  },
  {
   "cell_type": "code",
   "execution_count": 72,
   "id": "f3fa5b06-38f2-4825-a784-908899fcbd3d",
   "metadata": {},
   "outputs": [
    {
     "data": {
      "text/plain": [
       "True"
      ]
     },
     "execution_count": 72,
     "metadata": {},
     "output_type": "execute_result"
    }
   ],
   "source": [
    "(g2**(y4**2) == g2) and (g3**(y4**2) == g3)"
   ]
  },
  {
   "cell_type": "markdown",
   "id": "088974c5-a85f-4a38-95bf-cdcfdad22ba4",
   "metadata": {},
   "source": [
    "Check that elements of order $18$ are in $18\\text{E}$ via $\\chi_\\mathbf{M}$-value $5$."
   ]
  },
  {
   "cell_type": "code",
   "execution_count": 73,
   "id": "dd6e9507-6003-4f0b-8d4d-5755b521b057",
   "metadata": {},
   "outputs": [
    {
     "data": {
      "text/plain": [
       "(18, True, 5)"
      ]
     },
     "execution_count": 73,
     "metadata": {},
     "output_type": "execute_result"
    }
   ],
   "source": [
    "x18 = x2*x19**3\n",
    "x18.order(), (x18**((x18**9).conjugate_involution()[1])).in_G_x0(), (x18**((x18**9).conjugate_involution()[1])).chi_G_x0()[0]"
   ]
  },
  {
   "cell_type": "markdown",
   "id": "7e550979-c0c2-4e4c-9020-90750cb4fe47",
   "metadata": {},
   "source": [
    "Check that elements of order $20$ in $S$ are in $20\\text{F}$ via $\\chi_\\mathbf{M}$-value $4$."
   ]
  },
  {
   "cell_type": "code",
   "execution_count": 74,
   "id": "9dc9f92e-37c8-4858-8116-c4c572d20847",
   "metadata": {},
   "outputs": [
    {
     "data": {
      "text/plain": [
       "(20, True, 4)"
      ]
     },
     "execution_count": 74,
     "metadata": {},
     "output_type": "execute_result"
    }
   ],
   "source": [
    "x20 = x2*x19\n",
    "x20.order(), (x20**((x20**10).conjugate_involution()[1])).in_G_x0(), (x20**((x20**10).conjugate_involution()[1])).chi_G_x0()[0]"
   ]
  }
 ],
 "metadata": {
  "kernelspec": {
   "display_name": "Python 3 (ipykernel)",
   "language": "python",
   "name": "python3"
  },
  "language_info": {
   "codemirror_mode": {
    "name": "ipython",
    "version": 3
   },
   "file_extension": ".py",
   "mimetype": "text/x-python",
   "name": "python",
   "nbconvert_exporter": "python",
   "pygments_lexer": "ipython3",
   "version": "3.12.1"
  }
 },
 "nbformat": 4,
 "nbformat_minor": 5
}
